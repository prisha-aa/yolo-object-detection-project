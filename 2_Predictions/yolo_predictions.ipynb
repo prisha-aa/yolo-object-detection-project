{
 "cells": [
  {
   "cell_type": "code",
   "execution_count": 1,
   "id": "463f9870-96f8-4b88-b248-7eeca78e0e69",
   "metadata": {},
   "outputs": [],
   "source": [
    "import cv2\n",
    "import numpy as np\n",
    "import os\n",
    "import yaml\n",
    "from yaml import SafeLoader\n"
   ]
  },
  {
   "cell_type": "code",
   "execution_count": 2,
   "id": "655ade20-0608-4243-ae0e-f8f22174d275",
   "metadata": {},
   "outputs": [],
   "source": [
    "#!pip install PyYAML"
   ]
  },
  {
   "cell_type": "code",
   "execution_count": 3,
   "id": "2ccfed86-cd68-4fb2-87d6-a26ebfb846ba",
   "metadata": {},
   "outputs": [
    {
     "name": "stdout",
     "output_type": "stream",
     "text": [
      "['person', 'car', 'chair', 'bottle', 'pottedplant', 'bird', 'dog', 'sofa', 'bicycle', 'horse', 'boat', 'motorbike', 'cat', 'tvmonitor', 'cow', 'sheep', 'aeroplane', 'train', 'diningtable', 'bus']\n"
     ]
    }
   ],
   "source": [
    "#Load YAML\n",
    "with open(\"data.yaml\",mode='r') as f:\n",
    "    data_yaml=yaml.load(f,Loader=SafeLoader)\n",
    "\n",
    "labels=data_yaml['names']\n",
    "print(labels)\n",
    "\n"
   ]
  },
  {
   "cell_type": "code",
   "execution_count": 4,
   "id": "039e7e92-2fef-49af-9692-a72aff51aed1",
   "metadata": {},
   "outputs": [],
   "source": [
    "# Load YOLO model\n",
    "\n",
    "yolo=cv2.dnn.readNetFromONNX('./Model/weights/best.onnx')\n",
    "yolo.setPreferableBackend(cv2.dnn.DNN_BACKEND_OPENCV)\n",
    "yolo.setPreferableBackend(cv2.dnn.DNN_TARGET_CPU)\n"
   ]
  },
  {
   "cell_type": "code",
   "execution_count": 5,
   "id": "831ded7b-3e5f-4570-9dd4-61e2aeefcc94",
   "metadata": {},
   "outputs": [],
   "source": [
    "#load the image\n",
    "img = cv2.imread('./street_image.jpg')\n",
    "image=img.copy()\n",
    "row,col,d=image.shape\n",
    "\n",
    "#get the YOLO prediction from the image\n",
    "#step-1 convert image into square image(array)\n",
    "max_rc=max(row,col)\n",
    "input_image=np.zeros((max_rc,max_rc,3),dtype=np.uint8)\n",
    "input_image[0:row,0:col]=image\n",
    "#step-2: get prediction from square array\n",
    "INPUT_WH_YOLO=640\n",
    "blob=cv2.dnn.blobFromImage(input_image,1/255,(INPUT_WH_YOLO,INPUT_WH_YOLO),swapRB=True,crop=False)\n",
    "yolo.setInput(blob)\n",
    "preds=yolo.forward() #detection or prediction from YOLO\n",
    "\n",
    "# cv2.imshow(\"input_image\",input_image)\n",
    "# cv2.waitKey(0)\n",
    "# cv2.destroyAllWindows()\n",
    "\n",
    "#get the YOLO predictions from the image"
   ]
  },
  {
   "cell_type": "code",
   "execution_count": 6,
   "id": "1625be60-e885-4a10-bc5b-61f5c14fe674",
   "metadata": {},
   "outputs": [
    {
     "name": "stdout",
     "output_type": "stream",
     "text": [
      "(1, 25200, 25)\n"
     ]
    }
   ],
   "source": [
    "print(preds.shape)"
   ]
  },
  {
   "cell_type": "code",
   "execution_count": 7,
   "id": "c43385bc-5b35-46f8-9b51-ab46226ca3d9",
   "metadata": {},
   "outputs": [],
   "source": [
    "#non maximum supression"
   ]
  }
 ],
 "metadata": {
  "kernelspec": {
   "display_name": "Python 3 (ipykernel)",
   "language": "python",
   "name": "python3"
  },
  "language_info": {
   "codemirror_mode": {
    "name": "ipython",
    "version": 3
   },
   "file_extension": ".py",
   "mimetype": "text/x-python",
   "name": "python",
   "nbconvert_exporter": "python",
   "pygments_lexer": "ipython3",
   "version": "3.12.7"
  }
 },
 "nbformat": 4,
 "nbformat_minor": 5
}
